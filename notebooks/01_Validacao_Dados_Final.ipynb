{
 "cells": [
  {
   "cell_type": "markdown",
   "id": "b4e9e8e9",
   "metadata": {},
   "source": [
    "---\n",
    "# Algoritmos para Big Data – Projeto\n",
    "## Parte 1: Leitura e Validação de Dados\n",
    "\n",
    "**Dataset:** Flight Delay Dataset (Kaggle)\n",
    "\n",
    "**Autores:**\n",
    "- Henrique Niza (131898)\n",
    "- Paulo Francisco Pinto (128962)\n",
    "- Rute Roque (128919)"
   ]
  },
  {
   "cell_type": "markdown",
   "id": "0423bf68",
   "metadata": {},
   "source": [
    "Spark Setup"
   ]
  },
  {
   "cell_type": "code",
   "execution_count": 2,
   "id": "fd87c540",
   "metadata": {},
   "outputs": [],
   "source": [
    "# Importação das bibliotecas necessárias\n",
    "import pyspark\n",
    "from pyspark.sql import SparkSession\n",
    "import pyspark.sql.functions as F"
   ]
  },
  {
   "cell_type": "code",
   "execution_count": 3,
   "id": "4673bd79",
   "metadata": {},
   "outputs": [
    {
     "name": "stderr",
     "output_type": "stream",
     "text": [
      "WARNING: Using incubator modules: jdk.incubator.vector\n",
      "Using Spark's default log4j profile: org/apache/spark/log4j2-defaults.properties\n",
      "25/05/24 19:49:19 WARN Utils: Your hostname, MacBook-Pro-de-admin.local, resolves to a loopback address: 127.0.0.1; using 192.168.68.50 instead (on interface en0)\n",
      "25/05/24 19:49:19 WARN Utils: Set SPARK_LOCAL_IP if you need to bind to another address\n",
      "Using Spark's default log4j profile: org/apache/spark/log4j2-defaults.properties\n",
      "Setting default log level to \"WARN\".\n",
      "To adjust logging level use sc.setLogLevel(newLevel). For SparkR, use setLogLevel(newLevel).\n",
      "25/05/24 19:49:20 WARN NativeCodeLoader: Unable to load native-hadoop library for your platform... using builtin-java classes where applicable\n",
      "25/05/24 19:49:20 WARN Utils: Service 'SparkUI' could not bind on port 4040. Attempting port 4041.\n"
     ]
    }
   ],
   "source": [
    "# Criação da SparkSession\n",
    "spark = SparkSession.builder.appName(\"FlightDelayValidation\").getOrCreate()"
   ]
  },
  {
   "cell_type": "markdown",
   "id": "8c9fb91d",
   "metadata": {},
   "source": [
    "Leitura, Combinação e Amostragem dos Datasets (2018–2022)"
   ]
  },
  {
   "cell_type": "code",
   "execution_count": 5,
   "id": "ae43fee0",
   "metadata": {},
   "outputs": [
    {
     "name": "stderr",
     "output_type": "stream",
     "text": [
      "                                                                                \r"
     ]
    }
   ],
   "source": [
    "# Lista de ficheiros CSV para cada ano\n",
    "anos = [\"2018\", \"2019\", \"2020\", \"2021\", \"2022\"]\n",
    "caminho_base = \"../data/raw/Combined_Flights_\"\n",
    "\n",
    "# Leitura e união dos datasets anuais\n",
    "dataframes = [spark.read.csv(f\"{caminho_base}{ano}.csv\", header=True, inferSchema=True) for ano in anos]\n",
    "data = dataframes[0]\n",
    "for df in dataframes[1:]:\n",
    "    data = data.unionByName(df)\n",
    "\n",
    "# Aplicar amostragem aleatória de 30% aos dados combinados\n",
    "data = data.sample(fraction=0.3, seed=42)"
   ]
  },
  {
   "cell_type": "code",
   "execution_count": null,
   "id": "56c660b9",
   "metadata": {},
   "outputs": [
    {
     "name": "stdout",
     "output_type": "stream",
     "text": [
      "root\n",
      " |-- FlightDate: date (nullable = true)\n",
      " |-- Airline: string (nullable = true)\n",
      " |-- Origin: string (nullable = true)\n",
      " |-- Dest: string (nullable = true)\n",
      " |-- Cancelled: boolean (nullable = true)\n",
      " |-- Diverted: boolean (nullable = true)\n",
      " |-- CRSDepTime: integer (nullable = true)\n",
      " |-- DepTime: double (nullable = true)\n",
      " |-- DepDelayMinutes: double (nullable = true)\n",
      " |-- DepDelay: double (nullable = true)\n",
      " |-- ArrTime: double (nullable = true)\n",
      " |-- ArrDelayMinutes: double (nullable = true)\n",
      " |-- AirTime: double (nullable = true)\n",
      " |-- CRSElapsedTime: double (nullable = true)\n",
      " |-- ActualElapsedTime: double (nullable = true)\n",
      " |-- Distance: double (nullable = true)\n",
      " |-- Year: integer (nullable = true)\n",
      " |-- Quarter: integer (nullable = true)\n",
      " |-- Month: integer (nullable = true)\n",
      " |-- DayofMonth: integer (nullable = true)\n",
      " |-- DayOfWeek: integer (nullable = true)\n",
      " |-- Marketing_Airline_Network: string (nullable = true)\n",
      " |-- Operated_or_Branded_Code_Share_Partners: string (nullable = true)\n",
      " |-- DOT_ID_Marketing_Airline: integer (nullable = true)\n",
      " |-- IATA_Code_Marketing_Airline: string (nullable = true)\n",
      " |-- Flight_Number_Marketing_Airline: integer (nullable = true)\n",
      " |-- Operating_Airline: string (nullable = true)\n",
      " |-- DOT_ID_Operating_Airline: integer (nullable = true)\n",
      " |-- IATA_Code_Operating_Airline: string (nullable = true)\n",
      " |-- Tail_Number: string (nullable = true)\n",
      " |-- Flight_Number_Operating_Airline: integer (nullable = true)\n",
      " |-- OriginAirportID: integer (nullable = true)\n",
      " |-- OriginAirportSeqID: integer (nullable = true)\n",
      " |-- OriginCityMarketID: integer (nullable = true)\n",
      " |-- OriginCityName: string (nullable = true)\n",
      " |-- OriginState: string (nullable = true)\n",
      " |-- OriginStateFips: integer (nullable = true)\n",
      " |-- OriginStateName: string (nullable = true)\n",
      " |-- OriginWac: integer (nullable = true)\n",
      " |-- DestAirportID: integer (nullable = true)\n",
      " |-- DestAirportSeqID: integer (nullable = true)\n",
      " |-- DestCityMarketID: integer (nullable = true)\n",
      " |-- DestCityName: string (nullable = true)\n",
      " |-- DestState: string (nullable = true)\n",
      " |-- DestStateFips: integer (nullable = true)\n",
      " |-- DestStateName: string (nullable = true)\n",
      " |-- DestWac: integer (nullable = true)\n",
      " |-- DepDel15: double (nullable = true)\n",
      " |-- DepartureDelayGroups: double (nullable = true)\n",
      " |-- DepTimeBlk: string (nullable = true)\n",
      " |-- TaxiOut: double (nullable = true)\n",
      " |-- WheelsOff: double (nullable = true)\n",
      " |-- WheelsOn: double (nullable = true)\n",
      " |-- TaxiIn: double (nullable = true)\n",
      " |-- CRSArrTime: integer (nullable = true)\n",
      " |-- ArrDelay: double (nullable = true)\n",
      " |-- ArrDel15: double (nullable = true)\n",
      " |-- ArrivalDelayGroups: double (nullable = true)\n",
      " |-- ArrTimeBlk: string (nullable = true)\n",
      " |-- DistanceGroup: integer (nullable = true)\n",
      " |-- DivAirportLandings: double (nullable = true)\n",
      "\n"
     ]
    },
    {
     "name": "stderr",
     "output_type": "stream",
     "text": [
      "25/05/24 19:54:03 WARN SparkStringUtils: Truncated the string representation of a plan since it was too large. This behavior can be adjusted by setting 'spark.sql.debug.maxToStringFields'.\n"
     ]
    },
    {
     "name": "stdout",
     "output_type": "stream",
     "text": [
      "+----------+-----------------+------+----+---------+--------+----------+-------+---------------+--------+-------+---------------+-------+--------------+-----------------+--------+----+-------+-----+----------+---------+-------------------------+---------------------------------------+------------------------+---------------------------+-------------------------------+-----------------+------------------------+---------------------------+-----------+-------------------------------+---------------+------------------+------------------+--------------+-----------+---------------+---------------+---------+-------------+----------------+----------------+------------+---------+-------------+-------------+-------+--------+--------------------+----------+-------+---------+--------+------+----------+--------+--------+------------------+----------+-------------+------------------+\n",
      "|FlightDate|          Airline|Origin|Dest|Cancelled|Diverted|CRSDepTime|DepTime|DepDelayMinutes|DepDelay|ArrTime|ArrDelayMinutes|AirTime|CRSElapsedTime|ActualElapsedTime|Distance|Year|Quarter|Month|DayofMonth|DayOfWeek|Marketing_Airline_Network|Operated_or_Branded_Code_Share_Partners|DOT_ID_Marketing_Airline|IATA_Code_Marketing_Airline|Flight_Number_Marketing_Airline|Operating_Airline|DOT_ID_Operating_Airline|IATA_Code_Operating_Airline|Tail_Number|Flight_Number_Operating_Airline|OriginAirportID|OriginAirportSeqID|OriginCityMarketID|OriginCityName|OriginState|OriginStateFips|OriginStateName|OriginWac|DestAirportID|DestAirportSeqID|DestCityMarketID|DestCityName|DestState|DestStateFips|DestStateName|DestWac|DepDel15|DepartureDelayGroups|DepTimeBlk|TaxiOut|WheelsOff|WheelsOn|TaxiIn|CRSArrTime|ArrDelay|ArrDel15|ArrivalDelayGroups|ArrTimeBlk|DistanceGroup|DivAirportLandings|\n",
      "+----------+-----------------+------+----+---------+--------+----------+-------+---------------+--------+-------+---------------+-------+--------------+-----------------+--------+----+-------+-----+----------+---------+-------------------------+---------------------------------------+------------------------+---------------------------+-------------------------------+-----------------+------------------------+---------------------------+-----------+-------------------------------+---------------+------------------+------------------+--------------+-----------+---------------+---------------+---------+-------------+----------------+----------------+------------+---------+-------------+-------------+-------+--------+--------------------+----------+-------+---------+--------+------+----------+--------+--------+------------------+----------+-------------+------------------+\n",
      "|2018-01-26|Endeavor Air Inc.|   ABY| ATL|    false|   false|      1202| 1150.0|            0.0|   -12.0| 1253.0|            0.0|   35.0|          62.0|             63.0|   145.0|2018|      1|    1|        26|        5|                       DL|                           DL_CODESHARE|                   19790|                         DL|                           3298|               9E|                   20363|                         9E|     N800AY|                           3298|          10146|           1014602|             30146|    Albany, GA|         GA|             13|        Georgia|       34|        10397|         1039707|           30397| Atlanta, GA|       GA|           13|      Georgia|     34|     0.0|                -1.0| 1200-1259|   17.0|   1207.0|  1242.0|  11.0|      1304|   -11.0|     0.0|              -1.0| 1300-1359|            1|               0.0|\n",
      "|2018-01-30|Endeavor Air Inc.|   ABY| ATL|    false|   false|      1202| 1153.0|            0.0|    -9.0| 1255.0|            0.0|   44.0|          62.0|             62.0|   145.0|2018|      1|    1|        30|        2|                       DL|                           DL_CODESHARE|                   19790|                         DL|                           3298|               9E|                   20363|                         9E|     N8946A|                           3298|          10146|           1014602|             30146|    Albany, GA|         GA|             13|        Georgia|       34|        10397|         1039707|           30397| Atlanta, GA|       GA|           13|      Georgia|     34|     0.0|                -1.0| 1200-1259|    7.0|   1200.0|  1244.0|  11.0|      1304|    -9.0|     0.0|              -1.0| 1300-1359|            1|               0.0|\n",
      "|2018-01-10|Endeavor Air Inc.|   ATL| ABY|    false|   false|      1037| 1027.0|            0.0|   -10.0| 1126.0|            0.0|   37.0|          60.0|             59.0|   145.0|2018|      1|    1|        10|        3|                       DL|                           DL_CODESHARE|                   19790|                         DL|                           3298|               9E|                   20363|                         9E|     N8836A|                           3298|          10397|           1039707|             30397|   Atlanta, GA|         GA|             13|        Georgia|       34|        10146|         1014602|           30146|  Albany, GA|       GA|           13|      Georgia|     34|     0.0|                -1.0| 1000-1059|   19.0|   1046.0|  1123.0|   3.0|      1137|   -11.0|     0.0|              -1.0| 1100-1159|            1|               0.0|\n",
      "|2018-01-12|Endeavor Air Inc.|   ATL| ABY|    false|   false|      1037| 1044.0|            7.0|     7.0| 1138.0|            1.0|   35.0|          60.0|             54.0|   145.0|2018|      1|    1|        12|        5|                       DL|                           DL_CODESHARE|                   19790|                         DL|                           3298|               9E|                   20363|                         9E|     N832AY|                           3298|          10397|           1039707|             30397|   Atlanta, GA|         GA|             13|        Georgia|       34|        10146|         1014602|           30146|  Albany, GA|       GA|           13|      Georgia|     34|     0.0|                 0.0| 1000-1059|   16.0|   1100.0|  1135.0|   3.0|      1137|     1.0|     0.0|               0.0| 1100-1159|            1|               0.0|\n",
      "|2018-01-20|Endeavor Air Inc.|   ATL| ABY|    false|   false|      1037| 1035.0|            0.0|    -2.0| 1121.0|            0.0|   27.0|          59.0|             46.0|   145.0|2018|      1|    1|        20|        6|                       DL|                           DL_CODESHARE|                   19790|                         DL|                           3298|               9E|                   20363|                         9E|     N8775A|                           3298|          10397|           1039707|             30397|   Atlanta, GA|         GA|             13|        Georgia|       34|        10146|         1014602|           30146|  Albany, GA|       GA|           13|      Georgia|     34|     0.0|                -1.0| 1000-1059|   17.0|   1052.0|  1119.0|   2.0|      1136|   -15.0|     0.0|              -1.0| 1100-1159|            1|               0.0|\n",
      "+----------+-----------------+------+----+---------+--------+----------+-------+---------------+--------+-------+---------------+-------+--------------+-----------------+--------+----+-------+-----+----------+---------+-------------------------+---------------------------------------+------------------------+---------------------------+-------------------------------+-----------------+------------------------+---------------------------+-----------+-------------------------------+---------------+------------------+------------------+--------------+-----------+---------------+---------------+---------+-------------+----------------+----------------+------------+---------+-------------+-------------+-------+--------+--------------------+----------+-------+---------+--------+------+----------+--------+--------+------------------+----------+-------------+------------------+\n",
      "only showing top 5 rows\n"
     ]
    },
    {
     "name": "stderr",
     "output_type": "stream",
     "text": [
      "[Stage 11:===================================================>    (73 + 6) / 79]\r"
     ]
    },
    {
     "name": "stdout",
     "output_type": "stream",
     "text": [
      "Número total de linhas (30% da amostra): 8757283\n"
     ]
    },
    {
     "name": "stderr",
     "output_type": "stream",
     "text": [
      "                                                                                \r"
     ]
    }
   ],
   "source": [
    "# Verificação do Schema e Amostras\n",
    "data.printSchema()\n",
    "data.show(5)\n",
    "print(f\"Número total de linhas (30% da amostra): {data.count()}\")"
   ]
  },
  {
   "cell_type": "code",
   "execution_count": null,
   "id": "b09d5a29",
   "metadata": {},
   "outputs": [
    {
     "name": "stdout",
     "output_type": "stream",
     "text": [
      "Número de colunas: 61\n",
      "['FlightDate', 'Airline', 'Origin', 'Dest', 'Cancelled', 'Diverted', 'CRSDepTime', 'DepTime', 'DepDelayMinutes', 'DepDelay', 'ArrTime', 'ArrDelayMinutes', 'AirTime', 'CRSElapsedTime', 'ActualElapsedTime', 'Distance', 'Year', 'Quarter', 'Month', 'DayofMonth', 'DayOfWeek', 'Marketing_Airline_Network', 'Operated_or_Branded_Code_Share_Partners', 'DOT_ID_Marketing_Airline', 'IATA_Code_Marketing_Airline', 'Flight_Number_Marketing_Airline', 'Operating_Airline', 'DOT_ID_Operating_Airline', 'IATA_Code_Operating_Airline', 'Tail_Number', 'Flight_Number_Operating_Airline', 'OriginAirportID', 'OriginAirportSeqID', 'OriginCityMarketID', 'OriginCityName', 'OriginState', 'OriginStateFips', 'OriginStateName', 'OriginWac', 'DestAirportID', 'DestAirportSeqID', 'DestCityMarketID', 'DestCityName', 'DestState', 'DestStateFips', 'DestStateName', 'DestWac', 'DepDel15', 'DepartureDelayGroups', 'DepTimeBlk', 'TaxiOut', 'WheelsOff', 'WheelsOn', 'TaxiIn', 'CRSArrTime', 'ArrDelay', 'ArrDel15', 'ArrivalDelayGroups', 'ArrTimeBlk', 'DistanceGroup', 'DivAirportLandings']\n"
     ]
    }
   ],
   "source": [
    "# Mostragem de número de colunas\n",
    "colunas = data.columns\n",
    "print(f\"Número de colunas: {len(colunas)}\")\n",
    "print(colunas)"
   ]
  },
  {
   "cell_type": "code",
   "execution_count": null,
   "id": "fa55902e",
   "metadata": {},
   "outputs": [
    {
     "data": {
      "text/plain": [
       "[Row(FlightDate=datetime.date(2018, 1, 26), Airline='Endeavor Air Inc.', Origin='ABY', Dest='ATL', Cancelled=False, Diverted=False, CRSDepTime=1202, DepTime=1150.0, DepDelayMinutes=0.0, DepDelay=-12.0, ArrTime=1253.0, ArrDelayMinutes=0.0, AirTime=35.0, CRSElapsedTime=62.0, ActualElapsedTime=63.0, Distance=145.0, Year=2018, Quarter=1, Month=1, DayofMonth=26, DayOfWeek=5, Marketing_Airline_Network='DL', Operated_or_Branded_Code_Share_Partners='DL_CODESHARE', DOT_ID_Marketing_Airline=19790, IATA_Code_Marketing_Airline='DL', Flight_Number_Marketing_Airline=3298, Operating_Airline='9E', DOT_ID_Operating_Airline=20363, IATA_Code_Operating_Airline='9E', Tail_Number='N800AY', Flight_Number_Operating_Airline=3298, OriginAirportID=10146, OriginAirportSeqID=1014602, OriginCityMarketID=30146, OriginCityName='Albany, GA', OriginState='GA', OriginStateFips=13, OriginStateName='Georgia', OriginWac=34, DestAirportID=10397, DestAirportSeqID=1039707, DestCityMarketID=30397, DestCityName='Atlanta, GA', DestState='GA', DestStateFips=13, DestStateName='Georgia', DestWac=34, DepDel15=0.0, DepartureDelayGroups=-1.0, DepTimeBlk='1200-1259', TaxiOut=17.0, WheelsOff=1207.0, WheelsOn=1242.0, TaxiIn=11.0, CRSArrTime=1304, ArrDelay=-11.0, ArrDel15=0.0, ArrivalDelayGroups=-1.0, ArrTimeBlk='1300-1359', DistanceGroup=1, DivAirportLandings=0.0),\n",
       " Row(FlightDate=datetime.date(2018, 1, 30), Airline='Endeavor Air Inc.', Origin='ABY', Dest='ATL', Cancelled=False, Diverted=False, CRSDepTime=1202, DepTime=1153.0, DepDelayMinutes=0.0, DepDelay=-9.0, ArrTime=1255.0, ArrDelayMinutes=0.0, AirTime=44.0, CRSElapsedTime=62.0, ActualElapsedTime=62.0, Distance=145.0, Year=2018, Quarter=1, Month=1, DayofMonth=30, DayOfWeek=2, Marketing_Airline_Network='DL', Operated_or_Branded_Code_Share_Partners='DL_CODESHARE', DOT_ID_Marketing_Airline=19790, IATA_Code_Marketing_Airline='DL', Flight_Number_Marketing_Airline=3298, Operating_Airline='9E', DOT_ID_Operating_Airline=20363, IATA_Code_Operating_Airline='9E', Tail_Number='N8946A', Flight_Number_Operating_Airline=3298, OriginAirportID=10146, OriginAirportSeqID=1014602, OriginCityMarketID=30146, OriginCityName='Albany, GA', OriginState='GA', OriginStateFips=13, OriginStateName='Georgia', OriginWac=34, DestAirportID=10397, DestAirportSeqID=1039707, DestCityMarketID=30397, DestCityName='Atlanta, GA', DestState='GA', DestStateFips=13, DestStateName='Georgia', DestWac=34, DepDel15=0.0, DepartureDelayGroups=-1.0, DepTimeBlk='1200-1259', TaxiOut=7.0, WheelsOff=1200.0, WheelsOn=1244.0, TaxiIn=11.0, CRSArrTime=1304, ArrDelay=-9.0, ArrDel15=0.0, ArrivalDelayGroups=-1.0, ArrTimeBlk='1300-1359', DistanceGroup=1, DivAirportLandings=0.0),\n",
       " Row(FlightDate=datetime.date(2018, 1, 10), Airline='Endeavor Air Inc.', Origin='ATL', Dest='ABY', Cancelled=False, Diverted=False, CRSDepTime=1037, DepTime=1027.0, DepDelayMinutes=0.0, DepDelay=-10.0, ArrTime=1126.0, ArrDelayMinutes=0.0, AirTime=37.0, CRSElapsedTime=60.0, ActualElapsedTime=59.0, Distance=145.0, Year=2018, Quarter=1, Month=1, DayofMonth=10, DayOfWeek=3, Marketing_Airline_Network='DL', Operated_or_Branded_Code_Share_Partners='DL_CODESHARE', DOT_ID_Marketing_Airline=19790, IATA_Code_Marketing_Airline='DL', Flight_Number_Marketing_Airline=3298, Operating_Airline='9E', DOT_ID_Operating_Airline=20363, IATA_Code_Operating_Airline='9E', Tail_Number='N8836A', Flight_Number_Operating_Airline=3298, OriginAirportID=10397, OriginAirportSeqID=1039707, OriginCityMarketID=30397, OriginCityName='Atlanta, GA', OriginState='GA', OriginStateFips=13, OriginStateName='Georgia', OriginWac=34, DestAirportID=10146, DestAirportSeqID=1014602, DestCityMarketID=30146, DestCityName='Albany, GA', DestState='GA', DestStateFips=13, DestStateName='Georgia', DestWac=34, DepDel15=0.0, DepartureDelayGroups=-1.0, DepTimeBlk='1000-1059', TaxiOut=19.0, WheelsOff=1046.0, WheelsOn=1123.0, TaxiIn=3.0, CRSArrTime=1137, ArrDelay=-11.0, ArrDel15=0.0, ArrivalDelayGroups=-1.0, ArrTimeBlk='1100-1159', DistanceGroup=1, DivAirportLandings=0.0),\n",
       " Row(FlightDate=datetime.date(2018, 1, 12), Airline='Endeavor Air Inc.', Origin='ATL', Dest='ABY', Cancelled=False, Diverted=False, CRSDepTime=1037, DepTime=1044.0, DepDelayMinutes=7.0, DepDelay=7.0, ArrTime=1138.0, ArrDelayMinutes=1.0, AirTime=35.0, CRSElapsedTime=60.0, ActualElapsedTime=54.0, Distance=145.0, Year=2018, Quarter=1, Month=1, DayofMonth=12, DayOfWeek=5, Marketing_Airline_Network='DL', Operated_or_Branded_Code_Share_Partners='DL_CODESHARE', DOT_ID_Marketing_Airline=19790, IATA_Code_Marketing_Airline='DL', Flight_Number_Marketing_Airline=3298, Operating_Airline='9E', DOT_ID_Operating_Airline=20363, IATA_Code_Operating_Airline='9E', Tail_Number='N832AY', Flight_Number_Operating_Airline=3298, OriginAirportID=10397, OriginAirportSeqID=1039707, OriginCityMarketID=30397, OriginCityName='Atlanta, GA', OriginState='GA', OriginStateFips=13, OriginStateName='Georgia', OriginWac=34, DestAirportID=10146, DestAirportSeqID=1014602, DestCityMarketID=30146, DestCityName='Albany, GA', DestState='GA', DestStateFips=13, DestStateName='Georgia', DestWac=34, DepDel15=0.0, DepartureDelayGroups=0.0, DepTimeBlk='1000-1059', TaxiOut=16.0, WheelsOff=1100.0, WheelsOn=1135.0, TaxiIn=3.0, CRSArrTime=1137, ArrDelay=1.0, ArrDel15=0.0, ArrivalDelayGroups=0.0, ArrTimeBlk='1100-1159', DistanceGroup=1, DivAirportLandings=0.0),\n",
       " Row(FlightDate=datetime.date(2018, 1, 20), Airline='Endeavor Air Inc.', Origin='ATL', Dest='ABY', Cancelled=False, Diverted=False, CRSDepTime=1037, DepTime=1035.0, DepDelayMinutes=0.0, DepDelay=-2.0, ArrTime=1121.0, ArrDelayMinutes=0.0, AirTime=27.0, CRSElapsedTime=59.0, ActualElapsedTime=46.0, Distance=145.0, Year=2018, Quarter=1, Month=1, DayofMonth=20, DayOfWeek=6, Marketing_Airline_Network='DL', Operated_or_Branded_Code_Share_Partners='DL_CODESHARE', DOT_ID_Marketing_Airline=19790, IATA_Code_Marketing_Airline='DL', Flight_Number_Marketing_Airline=3298, Operating_Airline='9E', DOT_ID_Operating_Airline=20363, IATA_Code_Operating_Airline='9E', Tail_Number='N8775A', Flight_Number_Operating_Airline=3298, OriginAirportID=10397, OriginAirportSeqID=1039707, OriginCityMarketID=30397, OriginCityName='Atlanta, GA', OriginState='GA', OriginStateFips=13, OriginStateName='Georgia', OriginWac=34, DestAirportID=10146, DestAirportSeqID=1014602, DestCityMarketID=30146, DestCityName='Albany, GA', DestState='GA', DestStateFips=13, DestStateName='Georgia', DestWac=34, DepDel15=0.0, DepartureDelayGroups=-1.0, DepTimeBlk='1000-1059', TaxiOut=17.0, WheelsOff=1052.0, WheelsOn=1119.0, TaxiIn=2.0, CRSArrTime=1136, ArrDelay=-15.0, ArrDel15=0.0, ArrivalDelayGroups=-1.0, ArrTimeBlk='1100-1159', DistanceGroup=1, DivAirportLandings=0.0)]"
      ]
     },
     "execution_count": 8,
     "metadata": {},
     "output_type": "execute_result"
    }
   ],
   "source": [
    "# Exemplo de mostragem: 5 linhas de dados\n",
    "sample_rows = data.take(5)\n",
    "sample_rows"
   ]
  },
  {
   "cell_type": "code",
   "execution_count": null,
   "id": "c436237b",
   "metadata": {},
   "outputs": [
    {
     "name": "stderr",
     "output_type": "stream",
     "text": [
      "[Stage 20:===============================================>        (34 + 6) / 40]\r"
     ]
    },
    {
     "name": "stdout",
     "output_type": "stream",
     "text": [
      "Linhas antes: 8757283 | Depois de dropDuplicates(): 8757283\n"
     ]
    },
    {
     "name": "stderr",
     "output_type": "stream",
     "text": [
      "                                                                                \r"
     ]
    }
   ],
   "source": [
    "# Remoção de Duplicados\n",
    "print(f\"Linhas antes: {data.count()} | Depois de dropDuplicates(): {data.dropDuplicates().count()}\")\n",
    "data = data.dropDuplicates()"
   ]
  },
  {
   "cell_type": "code",
   "execution_count": 11,
   "id": "dae5c443",
   "metadata": {},
   "outputs": [
    {
     "name": "stderr",
     "output_type": "stream",
     "text": [
      "                                                                                \r"
     ]
    },
    {
     "data": {
      "text/plain": [
       "{'FlightDate': 0,\n",
       " 'Airline': 0,\n",
       " 'Origin': 0,\n",
       " 'Dest': 0,\n",
       " 'Cancelled': 0,\n",
       " 'Diverted': 0,\n",
       " 'CRSDepTime': 0,\n",
       " 'DepTime': 228993,\n",
       " 'DepDelayMinutes': 229412,\n",
       " 'DepDelay': 229412,\n",
       " 'ArrTime': 236269,\n",
       " 'ArrDelayMinutes': 254198,\n",
       " 'AirTime': 256141,\n",
       " 'CRSElapsedTime': 7,\n",
       " 'ActualElapsedTime': 254025,\n",
       " 'Distance': 0,\n",
       " 'Year': 0,\n",
       " 'Quarter': 0,\n",
       " 'Month': 0,\n",
       " 'DayofMonth': 0,\n",
       " 'DayOfWeek': 0,\n",
       " 'Marketing_Airline_Network': 0,\n",
       " 'Operated_or_Branded_Code_Share_Partners': 0,\n",
       " 'DOT_ID_Marketing_Airline': 0,\n",
       " 'IATA_Code_Marketing_Airline': 0,\n",
       " 'Flight_Number_Marketing_Airline': 0,\n",
       " 'Operating_Airline': 0,\n",
       " 'DOT_ID_Operating_Airline': 0,\n",
       " 'IATA_Code_Operating_Airline': 0,\n",
       " 'Tail_Number': 80290,\n",
       " 'Flight_Number_Operating_Airline': 0,\n",
       " 'OriginAirportID': 0,\n",
       " 'OriginAirportSeqID': 0,\n",
       " 'OriginCityMarketID': 0,\n",
       " 'OriginCityName': 0,\n",
       " 'OriginState': 0,\n",
       " 'OriginStateFips': 0,\n",
       " 'OriginStateName': 0,\n",
       " 'OriginWac': 0,\n",
       " 'DestAirportID': 0,\n",
       " 'DestAirportSeqID': 0,\n",
       " 'DestCityMarketID': 0,\n",
       " 'DestCityName': 0,\n",
       " 'DestState': 0,\n",
       " 'DestStateFips': 0,\n",
       " 'DestStateName': 0,\n",
       " 'DestWac': 0,\n",
       " 'DepDel15': 229412,\n",
       " 'DepartureDelayGroups': 229412,\n",
       " 'DepTimeBlk': 0,\n",
       " 'TaxiOut': 234710,\n",
       " 'WheelsOff': 234707,\n",
       " 'WheelsOn': 238398,\n",
       " 'TaxiIn': 238401,\n",
       " 'CRSArrTime': 0,\n",
       " 'ArrDelay': 254198,\n",
       " 'ArrDel15': 254198,\n",
       " 'ArrivalDelayGroups': 254198,\n",
       " 'ArrTimeBlk': 0,\n",
       " 'DistanceGroup': 0,\n",
       " 'DivAirportLandings': 26}"
      ]
     },
     "execution_count": 11,
     "metadata": {},
     "output_type": "execute_result"
    }
   ],
   "source": [
    "# Tratamento de Valores Nulos\n",
    "null_counts = data.select([\n",
    "    F.count(F.when(F.col(c).isNull(), c)).alias(c) for c in data.columns\n",
    "]).collect()[0].asDict()\n",
    "null_counts"
   ]
  },
  {
   "cell_type": "code",
   "execution_count": 12,
   "id": "81105c46",
   "metadata": {},
   "outputs": [
    {
     "name": "stderr",
     "output_type": "stream",
     "text": [
      "[Stage 138:================================================>      (35 + 5) / 40]\r"
     ]
    },
    {
     "name": "stdout",
     "output_type": "stream",
     "text": [
      "Linhas após remoção de nulos: 8500634\n"
     ]
    },
    {
     "name": "stderr",
     "output_type": "stream",
     "text": [
      "                                                                                \r"
     ]
    }
   ],
   "source": [
    "data = data.dropna()\n",
    "print(f\"Linhas após remoção de nulos: {data.count()}\")"
   ]
  },
  {
   "cell_type": "code",
   "execution_count": 14,
   "id": "0246a70e",
   "metadata": {},
   "outputs": [
    {
     "name": "stderr",
     "output_type": "stream",
     "text": [
      "25/05/24 20:15:42 WARN MemoryManager: Total allocation exceeds 95,00% (1 020 054 720 bytes) of heap memory\n",
      "Scaling row group sizes to 95,00% for 8 writers\n",
      "25/05/24 20:15:46 WARN MemoryManager: Total allocation exceeds 95,00% (1 020 054 720 bytes) of heap memory\n",
      "Scaling row group sizes to 95,00% for 8 writers\n",
      "25/05/24 20:15:50 WARN MemoryManager: Total allocation exceeds 95,00% (1 020 054 720 bytes) of heap memory\n",
      "Scaling row group sizes to 95,00% for 8 writers\n",
      "25/05/24 20:15:54 WARN MemoryManager: Total allocation exceeds 95,00% (1 020 054 720 bytes) of heap memory\n",
      "Scaling row group sizes to 95,00% for 8 writers\n",
      "25/05/24 20:15:58 WARN MemoryManager: Total allocation exceeds 95,00% (1 020 054 720 bytes) of heap memory\n",
      "Scaling row group sizes to 95,00% for 8 writers\n",
      "                                                                                \r"
     ]
    }
   ],
   "source": [
    "# Guardar Resultado Intermédio\n",
    "output_path = \"../data/processed/flights_cleaned_sample.parquet\"\n",
    "data.write.mode(\"overwrite\").parquet(output_path)"
   ]
  },
  {
   "cell_type": "markdown",
   "id": "db1d1a45",
   "metadata": {},
   "source": [
    "Dados amostrados (30%) e limpos de 2018 a 2022 foram guardados como Parquet para uso nas próximas etapas do projeto."
   ]
  },
  {
   "cell_type": "code",
   "execution_count": 15,
   "id": "7ca39268",
   "metadata": {},
   "outputs": [
    {
     "name": "stdout",
     "output_type": "stream",
     "text": [
      "Parquet salvo com sucesso em: ../data/processed/flights_cleaned_sample.parquet\n"
     ]
    }
   ],
   "source": [
    "print(f\"Parquet salvo com sucesso em: {output_path}\")"
   ]
  }
 ],
 "metadata": {
  "kernelspec": {
   "display_name": "spark-env",
   "language": "python",
   "name": "python3"
  },
  "language_info": {
   "codemirror_mode": {
    "name": "ipython",
    "version": 3
   },
   "file_extension": ".py",
   "mimetype": "text/x-python",
   "name": "python",
   "nbconvert_exporter": "python",
   "pygments_lexer": "ipython3",
   "version": "3.10.16"
  }
 },
 "nbformat": 4,
 "nbformat_minor": 5
}
